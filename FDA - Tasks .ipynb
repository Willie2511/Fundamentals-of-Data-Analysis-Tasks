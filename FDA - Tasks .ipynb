{
 "cells": [
  {
   "cell_type": "markdown",
   "metadata": {},
   "source": [
    "# Fundamentals of Data Analysis - Tasks 2020\n",
    "\n",
    "\n",
    "***"
   ]
  },
  {
   "cell_type": "markdown",
   "metadata": {},
   "source": [
    "### Task 1"
   ]
  },
  {
   "cell_type": "markdown",
   "metadata": {},
   "source": [
    "Write a Python function called counts that takes a list as input and returns a dictionary of unique items in the list as keys and the number of times each item appears as values."
   ]
  },
  {
   "cell_type": "code",
   "execution_count": 1,
   "metadata": {},
   "outputs": [],
   "source": [
    "TrialList = [5, 4, 3, 2, 1, 2, 3, 4, 5, 7, 7, 7, \"A\", \"a\", \"A\", \"B\", \"C\", \"B\"]"
   ]
  },
  {
   "cell_type": "code",
   "execution_count": 2,
   "metadata": {},
   "outputs": [
    {
     "data": {
      "text/plain": [
       "{5: 2, 4: 2, 3: 2, 2: 2, 1: 1, 7: 3, 'A': 2, 'a': 1, 'B': 2, 'C': 1}"
      ]
     },
     "execution_count": 2,
     "metadata": {},
     "output_type": "execute_result"
    }
   ],
   "source": [
    "dict((keys, TrialList.count(keys)) for keys in (TrialList))"
   ]
  },
  {
   "cell_type": "markdown",
   "metadata": {},
   "source": [
    "****"
   ]
  },
  {
   "cell_type": "code",
   "execution_count": 3,
   "metadata": {},
   "outputs": [],
   "source": [
    "NewList = [2, 3, 3, 4, 6, 6, \"A\", 2, \"D\", \"D\", 3]"
   ]
  },
  {
   "cell_type": "code",
   "execution_count": 4,
   "metadata": {},
   "outputs": [
    {
     "data": {
      "text/plain": [
       "{2: 2, 3: 3, 4: 1, 6: 2, 'A': 1, 'D': 2}"
      ]
     },
     "execution_count": 4,
     "metadata": {},
     "output_type": "execute_result"
    }
   ],
   "source": [
    "def counts(NewList):\n",
    "    return dict((keys, NewList.count(keys)) for keys in (NewList))\n",
    "\n",
    "counts(NewList)"
   ]
  },
  {
   "cell_type": "markdown",
   "metadata": {},
   "source": [
    "There are two things to keep in mind for each of the data types you are using:\n",
    "\n",
    "Are they mutable?\n",
    "Mutability is about whether or not we can change an object once it has been created. A list can be changed so it is mutable. However, strings cannot be changed without creating a completely new object, so they are immutable.\n",
    "Are they ordered?\n",
    "Order is about whether the order of the elements in an object matters, and whether this position of an element can be used to access the element. Both strings and lists are ordered. We can use the order to access parts of a list and string."
   ]
  },
  {
   "cell_type": "markdown",
   "metadata": {},
   "source": [
    "## Task 2"
   ]
  },
  {
   "cell_type": "markdown",
   "metadata": {},
   "source": [
    "Write a Python function called dicerolls that simulates rolling dice. Your function should take two parameters: the number of dice k and the number of times to roll the dice n. The function should simulate randomly rolling k dice n times, keeping track of each total face value. It should then return a dictionary with the number of times each possible total face value occurred."
   ]
  },
  {
   "cell_type": "code",
   "execution_count": 1,
   "metadata": {},
   "outputs": [],
   "source": [
    "import numpy as np"
   ]
  },
  {
   "cell_type": "code",
   "execution_count": 10,
   "metadata": {},
   "outputs": [
    {
     "data": {
      "text/plain": [
       "{2: 96,\n",
       " 3: 100,\n",
       " 4: 93,\n",
       " 5: 84,\n",
       " 6: 96,\n",
       " 7: 79,\n",
       " 8: 101,\n",
       " 9: 88,\n",
       " 10: 84,\n",
       " 11: 86,\n",
       " 12: 93}"
      ]
     },
     "execution_count": 10,
     "metadata": {},
     "output_type": "execute_result"
    }
   ],
   "source": [
    "def dicerolls(rolls, sides):\n",
    "    k=2\n",
    "    n=1000\n",
    "    dice = {i:0 for i in range(2,13)}\n",
    "    for n in range(rolls):\n",
    "        dice[np.random.randint(k, sides)]+= 1\n",
    "    return(dice)\n",
    "\n",
    "\n",
    "dicerolls(1000, 13)"
   ]
  },
  {
   "cell_type": "markdown",
   "metadata": {},
   "source": [
    "### Bibliography\n",
    "\n",
    "***\n",
    "\n",
    "Dargan, J. (2020) 'Create a Dictionary From a List' Medium. Available at: https://medium.com/swlh/create-a-dictionary-from-a-list-65742246ab4b Accessed on: 03/11/2020.\n",
    "\n",
    "Haddad, A. (2020) 'Python Return Multiple Values – How to Return a Tuple, List, or Dictionary' Free Code Camp. Available at: https://www.freecodecamp.org/news/python-returns-multiple-values-how-to-return-a-tuple-list-dictionary/ Accessed on: 29/10/2020.\n",
    "\n",
    "Sturtz, J. (2020) 'Dictionaries in Python' Real Python. Available at: https://realpython.com/python-dicts/ Accessed on: 01/11/2020."
   ]
  },
  {
   "cell_type": "code",
   "execution_count": null,
   "metadata": {},
   "outputs": [],
   "source": []
  }
 ],
 "metadata": {
  "kernelspec": {
   "display_name": "Python 3",
   "language": "python",
   "name": "python3"
  },
  "language_info": {
   "codemirror_mode": {
    "name": "ipython",
    "version": 3
   },
   "file_extension": ".py",
   "mimetype": "text/x-python",
   "name": "python",
   "nbconvert_exporter": "python",
   "pygments_lexer": "ipython3",
   "version": "3.7.4"
  }
 },
 "nbformat": 4,
 "nbformat_minor": 2
}

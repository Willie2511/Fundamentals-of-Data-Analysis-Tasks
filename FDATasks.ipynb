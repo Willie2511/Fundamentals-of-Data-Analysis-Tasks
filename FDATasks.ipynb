{
 "cells": [
  {
   "cell_type": "markdown",
   "metadata": {},
   "source": [
    "# Fundamentals of Data Analysis - Tasks 2020\n",
    "\n",
    "\n",
    "***"
   ]
  },
  {
   "cell_type": "markdown",
   "metadata": {},
   "source": [
    "### Task 1"
   ]
  },
  {
   "cell_type": "markdown",
   "metadata": {},
   "source": [
    "The first of four tasks requires the creation of a function called 'counts', which takes a list as input and returns a dictionary of unique items in the list as keys and the number of times each item appears as values. The code for this task is relatively short and concise. Start by creating a list as input, and then create a function called 'counts'. The function will take the input list, and simply return a dictionary which shows the number of times each item in the list appears. This function makes it much easier to organise and understand the contents in a list, especially when the list is substantial in size. "
   ]
  },
  {
   "cell_type": "code",
   "execution_count": 5,
   "metadata": {},
   "outputs": [],
   "source": [
    "List = [2, 3, 3, 4, 6, 6, \"A\", 2, \"D\", \"D\", 3, 3, 3, 3, 5, \"s\", \"S\", 3, 3, \"John\"]"
   ]
  },
  {
   "cell_type": "code",
   "execution_count": 6,
   "metadata": {},
   "outputs": [
    {
     "data": {
      "text/plain": [
       "{2: 2, 3: 8, 4: 1, 6: 2, 'A': 1, 'D': 2, 5: 1, 's': 1, 'S': 1, 'John': 1}"
      ]
     },
     "execution_count": 6,
     "metadata": {},
     "output_type": "execute_result"
    }
   ],
   "source": [
    "def counts(List):\n",
    "    # Return keys in list and count of each key in output \n",
    "    return dict((keys, List.count(keys)) for keys in (List))\n",
    "\n",
    "counts(List)"
   ]
  },
  {
   "cell_type": "markdown",
   "metadata": {},
   "source": [
    "## Task 2"
   ]
  },
  {
   "cell_type": "markdown",
   "metadata": {},
   "source": [
    "The second task requires the creation of a function called 'dicerolls', which simulates rolling dice. The function will take two parameters: the number of dice, k, and the number of times to roll the dice, n. This function will simulate randomly rolling k dice n times, while keeping track of each total face value. It will then return a dictionary with the number of times each possible total face value occurred. The first part of code required us to define the function, and specify its two parameters. The number of sides on the dice was included here as it would be important information later in the function. Next we created an empty dictionary called 'dice', before creating a for loop, which would gather and present the output of the for loop in a dictionary. If k is the number of dice being thrown, then k*sides + 1 is an essential specification as it allows the function to calculate the total face value for each roll. The +1 is added as the range function is max number exclusive. Next we start a simple for loop to simulate the rolling of k dice, n times. The sum of each total face value per roll is added to the 'dice' dictionary, and the loop continues to roll the specified number of dice until n has been reached. random.choices is used in the loop, a function which returns a list with the randomly selected element from the specified sequence (w3schools, 2020). The two parameters used in this function are the sequence, created using range, and k, an integer defining the length of the returned list. Once the parameters are specified and dice_sum completes the loop n times, the total face value results are added to a dictionary and the dictionary is returned as output.  "
   ]
  },
  {
   "cell_type": "code",
   "execution_count": 18,
   "metadata": {},
   "outputs": [
    {
     "data": {
      "text/plain": [
       "{3: 2,\n",
       " 4: 16,\n",
       " 5: 24,\n",
       " 6: 37,\n",
       " 7: 70,\n",
       " 8: 107,\n",
       " 9: 113,\n",
       " 10: 126,\n",
       " 11: 136,\n",
       " 12: 108,\n",
       " 13: 108,\n",
       " 14: 63,\n",
       " 15: 44,\n",
       " 16: 27,\n",
       " 17: 14,\n",
       " 18: 5}"
      ]
     },
     "execution_count": 18,
     "metadata": {},
     "output_type": "execute_result"
    }
   ],
   "source": [
    "import numpy as np\n",
    "def diceroll(k, n, sides=6):\n",
    "    dice = {n : 0 for n in range(k, k*sides + 1)}\n",
    "    for i in range(n):\n",
    "        dice_sum = sum(random.choices(range(1, sides + 1), k = k))\n",
    "        dice[dice_sum] += 1\n",
    "    return dice\n",
    "\n",
    "diceroll(3, 1000)"
   ]
  },
  {
   "cell_type": "markdown",
   "metadata": {},
   "source": [
    "## Task 3\n",
    "\n",
    "The third task requires python code that simulates flipping a coin 100 times. We must then run this code 1,000 times, keeping track of the number of heads in each of the 1,000 simulations. Finally, we must select an appropriate plot to depict the resulting list of 1,000 numbers, showing that it roughly follows a bell-shaped curve. To complete this task we primarily used the binomial function in np.random. Binomial Distribution is a Discrete Distribution which describes the outcome of binary scenarios (w3schools, 2020). As a coin flip is a binary scenario, it will either result in heads or tails, this was the most suitable function for the task. The two main parameters for this function are n, number of trials, and p, probability of occurence of each trial. As this is a fair binary trial the probability will be 0.5, landing on heads or tails is equally likely. In the first example below, we see 1 selected as n and 0.5 selected as p. This is a simulation of one random coin flip. The output is zero, therefore tails is the result of the flip. "
   ]
  },
  {
   "cell_type": "code",
   "execution_count": 1,
   "metadata": {},
   "outputs": [
    {
     "data": {
      "text/plain": [
       "0"
      ]
     },
     "execution_count": 1,
     "metadata": {},
     "output_type": "execute_result"
    }
   ],
   "source": [
    "import numpy as np\n",
    "n = 1\n",
    "p = 0.5\n",
    "np.random.binomial(n,p)"
   ]
  },
  {
   "cell_type": "markdown",
   "metadata": {},
   "source": [
    "The second example simulates a coin flipped ten times. The output of the fucntion is 4, meaning that out of ten coin flips, heads was the result four times."
   ]
  },
  {
   "cell_type": "code",
   "execution_count": 34,
   "metadata": {},
   "outputs": [
    {
     "data": {
      "text/plain": [
       "4"
      ]
     },
     "execution_count": 34,
     "metadata": {},
     "output_type": "execute_result"
    }
   ],
   "source": [
    "n = 10\n",
    "p = 0.5\n",
    "np.random.binomial(n, p)"
   ]
  },
  {
   "cell_type": "markdown",
   "metadata": {},
   "source": [
    "The task set out above was to simulate flipping a coin 100 times, then run this code 1,000 times, keeping track of the number of heads in each of the 1,000 simulations. We begin by setting n = 100, which will represent 100 coins, and keeping p = 0.5, as the probability of either outcome is still 50%. Finally we add a size parameter, which specifies the shape of the returned array, and we set size = 1000. This runs the 100 coin flips, 1000 times."
   ]
  },
  {
   "cell_type": "code",
   "execution_count": 32,
   "metadata": {
    "scrolled": true
   },
   "outputs": [
    {
     "data": {
      "text/plain": [
       "array([53, 50, 54, 45, 41, 51, 57, 52, 47, 50, 59, 50, 45, 48, 50, 41, 59,\n",
       "       40, 43, 55, 47, 55, 51, 42, 51, 46, 48, 43, 44, 53, 53, 46, 55, 47,\n",
       "       52, 44, 42, 58, 51, 55, 49, 47, 61, 49, 52, 51, 56, 53, 51, 54, 51,\n",
       "       52, 48, 45, 63, 45, 50, 50, 46, 50, 54, 46, 44, 46, 53, 52, 50, 45,\n",
       "       58, 44, 53, 51, 44, 45, 54, 51, 50, 50, 44, 55, 37, 50, 46, 53, 51,\n",
       "       49, 48, 49, 45, 47, 51, 51, 52, 50, 57, 57, 52, 62, 51, 56, 60, 55,\n",
       "       46, 44, 45, 44, 43, 44, 56, 49, 41, 50, 48, 55, 59, 45, 61, 44, 54,\n",
       "       43, 54, 56, 44, 46, 51, 48, 52, 51, 47, 53, 54, 48, 54, 42, 51, 57,\n",
       "       49, 56, 52, 48, 52, 52, 43, 49, 55, 48, 52, 48, 56, 54, 41, 49, 45,\n",
       "       47, 42, 53, 59, 41, 50, 52, 57, 46, 42, 48, 51, 48, 46, 50, 46, 53,\n",
       "       44, 51, 57, 50, 52, 46, 54, 50, 50, 50, 52, 57, 49, 52, 53, 51, 47,\n",
       "       53, 50, 44, 53, 60, 52, 43, 48, 44, 48, 50, 52, 59, 40, 49, 55, 53,\n",
       "       43, 56, 48, 46, 45, 56, 43, 51, 58, 54, 53, 47, 50, 54, 47, 44, 59,\n",
       "       51, 52, 45, 54, 51, 54, 43, 47, 53, 49, 48, 55, 55, 51, 50, 50, 51,\n",
       "       55, 52, 45, 55, 54, 58, 49, 47, 48, 54, 51, 51, 51, 55, 49, 50, 49,\n",
       "       43, 47, 51, 53, 56, 57, 62, 54, 50, 47, 60, 48, 52, 48, 45, 57, 49,\n",
       "       56, 55, 50, 52, 46, 46, 50, 59, 44, 46, 49, 56, 51, 52, 48, 45, 45,\n",
       "       47, 55, 46, 48, 49, 44, 58, 48, 50, 53, 54, 51, 50, 49, 55, 51, 53,\n",
       "       47, 54, 51, 61, 55, 52, 46, 48, 44, 51, 50, 49, 51, 49, 48, 38, 51,\n",
       "       49, 52, 50, 48, 52, 51, 54, 45, 42, 50, 48, 48, 48, 53, 43, 54, 58,\n",
       "       61, 48, 59, 47, 48, 50, 44, 49, 38, 59, 53, 54, 62, 43, 51, 63, 53,\n",
       "       51, 52, 42, 48, 47, 44, 49, 51, 52, 45, 47, 52, 39, 46, 48, 51, 49,\n",
       "       45, 47, 53, 48, 48, 47, 52, 55, 45, 50, 57, 48, 58, 50, 53, 45, 46,\n",
       "       54, 40, 45, 49, 51, 50, 50, 50, 47, 47, 53, 42, 37, 52, 47, 52, 44,\n",
       "       41, 52, 50, 52, 46, 61, 51, 43, 55, 50, 46, 52, 53, 47, 48, 51, 51,\n",
       "       52, 53, 43, 58, 58, 53, 55, 48, 50, 48, 50, 50, 55, 46, 59, 51, 52,\n",
       "       41, 56, 44, 45, 52, 47, 48, 43, 42, 58, 50, 54, 50, 47, 52, 55, 47,\n",
       "       50, 47, 48, 51, 42, 53, 49, 47, 49, 49, 59, 49, 54, 46, 58, 50, 45,\n",
       "       55, 53, 47, 52, 49, 46, 52, 53, 51, 59, 53, 49, 48, 37, 49, 51, 48,\n",
       "       53, 38, 49, 53, 47, 48, 55, 50, 44, 55, 50, 51, 49, 50, 51, 42, 45,\n",
       "       53, 58, 52, 44, 48, 50, 57, 42, 57, 46, 47, 49, 49, 55, 50, 59, 45,\n",
       "       51, 43, 43, 50, 50, 50, 49, 59, 45, 56, 47, 47, 52, 41, 54, 59, 55,\n",
       "       54, 52, 48, 57, 52, 50, 47, 45, 53, 48, 38, 47, 44, 58, 46, 48, 51,\n",
       "       55, 44, 59, 52, 47, 44, 49, 49, 49, 55, 44, 60, 50, 44, 45, 52, 51,\n",
       "       44, 49, 48, 50, 47, 50, 50, 55, 41, 49, 56, 53, 50, 48, 56, 48, 50,\n",
       "       49, 49, 44, 48, 49, 45, 54, 47, 49, 53, 47, 40, 42, 45, 57, 56, 41,\n",
       "       49, 49, 54, 48, 52, 54, 55, 52, 50, 50, 45, 45, 36, 54, 49, 59, 50,\n",
       "       47, 47, 47, 57, 58, 49, 40, 56, 49, 41, 44, 52, 53, 56, 59, 48, 61,\n",
       "       48, 60, 49, 47, 42, 43, 50, 50, 41, 46, 46, 51, 59, 61, 49, 44, 57,\n",
       "       53, 49, 54, 47, 57, 54, 60, 48, 48, 55, 45, 43, 48, 45, 42, 49, 45,\n",
       "       47, 48, 55, 52, 52, 55, 62, 48, 57, 48, 52, 45, 51, 49, 53, 44, 53,\n",
       "       51, 46, 48, 40, 55, 53, 43, 52, 47, 59, 58, 50, 45, 48, 56, 54, 54,\n",
       "       49, 47, 43, 49, 61, 48, 51, 48, 54, 44, 41, 57, 53, 54, 46, 41, 50,\n",
       "       43, 54, 56, 48, 50, 49, 58, 57, 50, 40, 49, 56, 54, 50, 50, 62, 51,\n",
       "       53, 56, 53, 42, 50, 54, 48, 57, 44, 53, 49, 46, 57, 56, 48, 45, 49,\n",
       "       54, 59, 49, 56, 51, 62, 44, 48, 56, 61, 52, 45, 51, 53, 50, 45, 52,\n",
       "       60, 36, 51, 55, 48, 51, 58, 52, 46, 49, 44, 54, 52, 58, 45, 59, 53,\n",
       "       42, 52, 47, 47, 49, 52, 52, 48, 46, 50, 48, 48, 56, 51, 52, 51, 55,\n",
       "       51, 45, 49, 42, 51, 47, 53, 48, 51, 51, 56, 54, 51, 51, 54, 55, 39,\n",
       "       51, 53, 51, 46, 47, 42, 49, 39, 46, 50, 41, 58, 55, 43, 50, 57, 51,\n",
       "       48, 48, 43, 44, 51, 48, 57, 43, 48, 59, 52, 50, 49, 52, 60, 47, 49,\n",
       "       45, 50, 49, 52, 56, 54, 43, 52, 49, 57, 43, 47, 47, 54, 64, 49, 54,\n",
       "       41, 53, 56, 49, 41, 51, 53, 47, 43, 44, 51, 36, 45, 54, 49, 40, 52,\n",
       "       42, 48, 44, 42, 45, 46, 41, 51, 47, 53, 48, 51, 60, 51, 52, 56, 53,\n",
       "       46, 48, 46, 38, 55, 41, 44, 45, 46, 48, 45, 53, 56, 57, 49, 58, 48,\n",
       "       59, 53, 48, 52, 54, 52, 46, 50, 52, 57, 47, 46, 45, 50, 67, 47, 51,\n",
       "       54, 39, 51, 41, 56, 53, 42, 49, 53, 45, 51, 52, 54, 45, 49, 55, 50,\n",
       "       55, 46, 51, 48, 52, 49, 48, 51, 48, 47, 53, 53, 38, 45, 53, 52, 59,\n",
       "       47, 42, 53, 49, 62, 48, 44, 57, 45, 52, 54, 51, 45, 44])"
      ]
     },
     "execution_count": 32,
     "metadata": {},
     "output_type": "execute_result"
    }
   ],
   "source": [
    "n=100\n",
    "p=0.5\n",
    "# let us repeat our experiment for 100 times\n",
    "size=1000\n",
    "x=np.random.binomial(n=n, p=p, size=size)\n",
    "x"
   ]
  },
  {
   "cell_type": "code",
   "execution_count": 33,
   "metadata": {},
   "outputs": [
    {
     "data": {
      "image/png": "[encoded data removed]",
      "text/plain": [
       "<Figure size 432x288 with 1 Axes>"
      ]
     },
     "metadata": {
      "needs_background": "light"
     },
     "output_type": "display_data"
    }
   ],
   "source": [
    "import matplotlib.pyplot as plt\n",
    "import seaborn as sns\n",
    "\n",
    "sns.distplot((x), hist=True, kde=True)\n",
    "\n",
    "plt.show();"
   ]
  },
  {
   "cell_type": "markdown",
   "metadata": {},
   "source": [
    "### Bibliography\n",
    "\n",
    "***\n",
    "\n",
    "Dargan, J. (2020) 'Create a Dictionary From a List' Medium. Available at: https://medium.com/swlh/create-a-dictionary-from-a-list-65742246ab4b Accessed on: 03/11/2020.\n",
    "\n",
    "Haddad, A. (2020) 'Python Return Multiple Values – How to Return a Tuple, List, or Dictionary' Free Code Camp. Available at: https://www.freecodecamp.org/news/python-returns-multiple-values-how-to-return-a-tuple-list-dictionary/ Accessed on: 29/10/2020.\n",
    "\n",
    "Sturtz, J. (2020) 'Dictionaries in Python' Real Python. Available at: https://realpython.com/python-dicts/ Accessed on: 01/11/2020.\n",
    "\n",
    "W3Schools. (2020) 'Python Random choices() Method' W3Schools. Available at: https://www.w3schools.com/python/ref_random_choices.asp Accessed on: 01/12/2020. \n",
    "\n",
    "W3Schools. (2020) 'Binomial Distribution' W3Schools. Available at: https://www.w3schools.com/python/numpy_random_binomial.asp Accessed on: 25/11/1991."
   ]
  },
  {
   "cell_type": "code",
   "execution_count": null,
   "metadata": {},
   "outputs": [],
   "source": []
  }
 ],
 "metadata": {
  "kernelspec": {
   "display_name": "Python 3",
   "language": "python",
   "name": "python3"
  },
  "language_info": {
   "codemirror_mode": {
    "name": "ipython",
    "version": 3
   },
   "file_extension": ".py",
   "mimetype": "text/x-python",
   "name": "python",
   "nbconvert_exporter": "python",
   "pygments_lexer": "ipython3",
   "version": "3.7.4"
  }
 },
 "nbformat": 4,
 "nbformat_minor": 2
}

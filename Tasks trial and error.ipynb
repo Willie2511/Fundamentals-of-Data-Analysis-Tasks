{
 "cells": [
  {
   "cell_type": "markdown",
   "metadata": {},
   "source": [
    "# Fundamentals of Data Analysis - Tasks 2020\n",
    "\n",
    "****"
   ]
  },
  {
   "cell_type": "markdown",
   "metadata": {},
   "source": [
    "## Task 1\n",
    "##### Write a Python function that takes a list as input and returns a dictionary of unique items in the list as keys and the number of times each item appears as values "
   ]
  },
  {
   "cell_type": "code",
   "execution_count": 1,
   "metadata": {},
   "outputs": [
    {
     "name": "stdout",
     "output_type": "stream",
     "text": [
      "Please enter a string: 1, 2, 3, 4, 4, 4, 4, 3, 4\n",
      "The string entered is  1, 2, 3, 4, 4, 4, 4, 3, 4\n",
      "{'1': 1, ',': 8, ' ': 8, '2': 1, '3': 2, '4': 5}\n"
     ]
    }
   ],
   "source": [
    "str = input(\"Please enter a string: \")\n",
    "print(\"The string entered is \", str)\n",
    "\n",
    "count = {}\n",
    "for x in str:\n",
    "    if x in count.keys():\n",
    "        count[x] += 1\n",
    "    else:\n",
    "        count[x] = 1\n",
    "        \n",
    "        \n",
    "print(count)\n"
   ]
  },
  {
   "cell_type": "code",
   "execution_count": 2,
   "metadata": {},
   "outputs": [
    {
     "ename": "NameError",
     "evalue": "name 'd' is not defined",
     "output_type": "error",
     "traceback": [
      "\u001b[0;31m---------------------------------------------------------------------------\u001b[0m",
      "\u001b[0;31mNameError\u001b[0m                                 Traceback (most recent call last)",
      "\u001b[0;32m<ipython-input-2-6f8a21111534>\u001b[0m in \u001b[0;36m<module>\u001b[0;34m\u001b[0m\n\u001b[0;32m----> 1\u001b[0;31m \u001b[0mList\u001b[0m \u001b[0;34m=\u001b[0m \u001b[0;34m[\u001b[0m\u001b[0;36m1\u001b[0m\u001b[0;34m,\u001b[0m \u001b[0;36m2\u001b[0m\u001b[0;34m,\u001b[0m \u001b[0;36m3\u001b[0m\u001b[0;34m,\u001b[0m \u001b[0;36m2\u001b[0m\u001b[0;34m,\u001b[0m \u001b[0;36m2\u001b[0m\u001b[0;34m,\u001b[0m \u001b[0;36m4\u001b[0m\u001b[0;34m,\u001b[0m \u001b[0;36m15\u001b[0m\u001b[0;34m,\u001b[0m \u001b[0md\u001b[0m\u001b[0;34m,\u001b[0m \u001b[0mc\u001b[0m\u001b[0;34m,\u001b[0m \u001b[0mc\u001b[0m\u001b[0;34m,\u001b[0m \u001b[0mf\u001b[0m\u001b[0;34m,\u001b[0m \u001b[0;36m15\u001b[0m\u001b[0;34m,\u001b[0m \u001b[0;36m1\u001b[0m\u001b[0;34m]\u001b[0m\u001b[0;34m\u001b[0m\u001b[0;34m\u001b[0m\u001b[0m\n\u001b[0m",
      "\u001b[0;31mNameError\u001b[0m: name 'd' is not defined"
     ]
    }
   ],
   "source": [
    "List = [1, 2, 3, 2, 2, 4, 15, d, c, c, f, 15, 1]"
   ]
  },
  {
   "cell_type": "code",
   "execution_count": null,
   "metadata": {},
   "outputs": [],
   "source": [
    "def counts(inputList):\n",
    "    return dict((element, inputList.count(element)) for element in set(inputList))\n",
    "\n",
    "counts(List)"
   ]
  },
  {
   "cell_type": "markdown",
   "metadata": {},
   "source": [
    "## task 2"
   ]
  },
  {
   "cell_type": "code",
   "execution_count": 21,
   "metadata": {},
   "outputs": [
    {
     "ename": "KeyError",
     "evalue": "1",
     "output_type": "error",
     "traceback": [
      "\u001b[0;31m---------------------------------------------------------------------------\u001b[0m",
      "\u001b[0;31mKeyError\u001b[0m                                  Traceback (most recent call last)",
      "\u001b[0;32m<ipython-input-21-db5c9805d0b8>\u001b[0m in \u001b[0;36m<module>\u001b[0;34m\u001b[0m\n\u001b[1;32m      8\u001b[0m \u001b[0;34m\u001b[0m\u001b[0m\n\u001b[1;32m      9\u001b[0m \u001b[0;34m\u001b[0m\u001b[0m\n\u001b[0;32m---> 10\u001b[0;31m \u001b[0mroll_dice\u001b[0m\u001b[0;34m(\u001b[0m\u001b[0;36m500\u001b[0m\u001b[0;34m,\u001b[0m \u001b[0;36m13\u001b[0m\u001b[0;34m)\u001b[0m\u001b[0;34m\u001b[0m\u001b[0;34m\u001b[0m\u001b[0m\n\u001b[0m",
      "\u001b[0;32m<ipython-input-21-db5c9805d0b8>\u001b[0m in \u001b[0;36mroll_dice\u001b[0;34m(rolls, sides)\u001b[0m\n\u001b[1;32m      4\u001b[0m     \u001b[0mdice\u001b[0m \u001b[0;34m=\u001b[0m \u001b[0;34m{\u001b[0m\u001b[0mi\u001b[0m\u001b[0;34m:\u001b[0m\u001b[0;36m0\u001b[0m \u001b[0;32mfor\u001b[0m \u001b[0mi\u001b[0m \u001b[0;32min\u001b[0m \u001b[0mrange\u001b[0m\u001b[0;34m(\u001b[0m\u001b[0;36m2\u001b[0m\u001b[0;34m,\u001b[0m\u001b[0;36m13\u001b[0m\u001b[0;34m)\u001b[0m\u001b[0;34m}\u001b[0m\u001b[0;34m\u001b[0m\u001b[0;34m\u001b[0m\u001b[0m\n\u001b[1;32m      5\u001b[0m     \u001b[0;32mfor\u001b[0m \u001b[0mx\u001b[0m \u001b[0;32min\u001b[0m \u001b[0mrange\u001b[0m\u001b[0;34m(\u001b[0m\u001b[0mrolls\u001b[0m\u001b[0;34m)\u001b[0m\u001b[0;34m:\u001b[0m\u001b[0;34m\u001b[0m\u001b[0;34m\u001b[0m\u001b[0m\n\u001b[0;32m----> 6\u001b[0;31m         \u001b[0mdice\u001b[0m\u001b[0;34m[\u001b[0m\u001b[0mrandom\u001b[0m\u001b[0;34m.\u001b[0m\u001b[0mrandint\u001b[0m\u001b[0;34m(\u001b[0m\u001b[0;36m1\u001b[0m\u001b[0;34m,\u001b[0m \u001b[0msides\u001b[0m\u001b[0;34m)\u001b[0m\u001b[0;34m]\u001b[0m \u001b[0;34m+=\u001b[0m \u001b[0;36m1\u001b[0m\u001b[0;34m\u001b[0m\u001b[0;34m\u001b[0m\u001b[0m\n\u001b[0m\u001b[1;32m      7\u001b[0m     \u001b[0;32mreturn\u001b[0m\u001b[0;34m(\u001b[0m\u001b[0mdice\u001b[0m\u001b[0;34m)\u001b[0m\u001b[0;34m\u001b[0m\u001b[0;34m\u001b[0m\u001b[0m\n\u001b[1;32m      8\u001b[0m \u001b[0;34m\u001b[0m\u001b[0m\n",
      "\u001b[0;31mKeyError\u001b[0m: 1"
     ]
    }
   ],
   "source": [
    "import numpy as np\n",
    "\n",
    "def roll_dice(rolls, sides):\n",
    "    dice = {i:0 for i in range(2,13)}\n",
    "    for x in range(rolls):\n",
    "        dice[random.randint(1, sides)] += 1\n",
    "    return(dice)\n",
    "\n",
    "\n",
    "roll_dice(500, 13)"
   ]
  },
  {
   "cell_type": "markdown",
   "metadata": {},
   "source": [
    "## Task 3"
   ]
  },
  {
   "cell_type": "code",
   "execution_count": 3,
   "metadata": {},
   "outputs": [
    {
     "data": {
      "text/plain": [
       "1"
      ]
     },
     "execution_count": 3,
     "metadata": {},
     "output_type": "execute_result"
    }
   ],
   "source": [
    "import numpy as np\n",
    "n = 1\n",
    "p = 0.5\n",
    "np.random.binomial(n,p)"
   ]
  },
  {
   "cell_type": "code",
   "execution_count": 2,
   "metadata": {},
   "outputs": [
    {
     "data": {
      "text/plain": [
       "4"
      ]
     },
     "execution_count": 2,
     "metadata": {},
     "output_type": "execute_result"
    }
   ],
   "source": [
    "np.random.seed(42)\n",
    "n = 10\n",
    "p = 0.5\n",
    "np.random.binomial(n, p)"
   ]
  },
  {
   "cell_type": "code",
   "execution_count": 4,
   "metadata": {},
   "outputs": [
    {
     "data": {
      "text/plain": [
       "array([49, 52, 44, 42, 58, 52, 51, 56, 48, 52, 49, 47, 48, 43, 59, 55, 48,\n",
       "       43, 49, 51, 46, 59, 50, 48, 55, 57, 51, 46, 43, 55, 43, 55, 56, 40,\n",
       "       56, 53, 46, 45, 50, 45, 52, 51, 54, 54, 59, 56, 40, 55, 51, 46, 56,\n",
       "       49, 62, 49, 43, 55, 49, 49, 48, 52, 45, 54, 46, 51, 44, 65, 55, 49,\n",
       "       45, 44, 53, 41, 50, 45, 48, 46, 49, 52, 50, 49, 53, 48, 55, 59, 42,\n",
       "       50, 59, 52, 58, 48, 60, 46, 48, 41, 54, 41, 56, 47, 50, 50, 57, 48,\n",
       "       55, 49, 46, 44, 56, 58, 42, 56, 51, 59, 56, 50, 49, 51, 42, 50, 52,\n",
       "       49, 52, 46, 46, 60, 52, 42, 61, 59, 53, 52, 46, 49, 58, 57, 46, 54,\n",
       "       50, 49, 39, 44, 48, 57, 48, 60, 53, 48, 46, 51, 56, 46, 49, 46, 44,\n",
       "       52, 43, 54, 56, 50, 48, 46, 50, 47, 61, 48, 46, 42, 43, 47, 60, 48,\n",
       "       59, 54, 42, 47, 49, 51, 59, 59, 51, 50, 48, 55, 44, 58, 57, 60, 49,\n",
       "       46, 39, 52, 52, 52, 52, 54, 52, 41, 45, 43, 43, 50, 51, 47, 50, 53,\n",
       "       51, 53, 48, 51, 44, 49, 41, 49, 52, 53, 49, 48, 45, 52, 48, 51, 45,\n",
       "       47, 57, 52, 48, 48, 51, 53, 51, 46, 47, 49, 49, 57, 48, 60, 47, 55,\n",
       "       52, 44, 47, 50, 49, 45, 55, 43, 49, 49, 49, 46, 64, 45, 46, 52, 46,\n",
       "       49, 50, 55, 42, 47, 53, 44, 46, 41, 50, 48, 46, 49, 45, 49, 56, 48,\n",
       "       52, 46, 47, 48, 43, 60, 52, 52, 59, 58, 45, 40, 48, 56, 53, 54, 50,\n",
       "       51, 45, 45, 49, 43, 45, 46, 52, 47, 46, 55, 45, 53, 51, 41, 55, 49,\n",
       "       49, 49, 49, 56, 50, 57, 48, 50, 54, 48, 50, 57, 52, 47, 46, 47, 55,\n",
       "       39, 41, 58, 50, 46, 51, 43, 47, 50, 54, 45, 40, 46, 55, 44, 47, 46,\n",
       "       51, 52, 53, 53, 48, 48, 50, 51, 48, 50, 56, 61, 49, 41, 51, 46, 49,\n",
       "       52, 61, 41, 49, 46, 53, 46, 50, 49, 51, 40, 54, 40, 59, 41, 52, 54,\n",
       "       54, 54, 51, 51, 46, 56, 50, 61, 48, 60, 53, 53, 55, 43, 41, 51, 52,\n",
       "       57, 50, 44, 54, 41, 41, 48, 55, 50, 51, 58, 57, 48, 45, 57, 50, 46,\n",
       "       48, 55, 44, 51, 50, 46, 51, 43, 54, 54, 48, 47, 54, 46, 52, 46, 50,\n",
       "       52, 55, 54, 39, 41, 52, 51, 50, 46, 48, 52, 50, 53, 48, 55, 43, 46,\n",
       "       48, 46, 52, 49, 50, 56, 56, 52, 43, 46, 49, 44, 51, 53, 37, 47, 46,\n",
       "       48, 51, 51, 41, 53, 40, 52, 50, 53, 51, 58, 47, 54, 52, 50, 55, 54,\n",
       "       49, 49, 56, 52, 44, 53, 55, 50, 52, 50, 42, 42, 52, 50, 48, 36, 60,\n",
       "       40, 43, 48, 52, 46, 41, 39, 50, 56, 57, 45, 53, 52, 54, 51, 54, 50,\n",
       "       48, 54, 54, 47, 43, 56, 43, 53, 51, 53, 57, 48, 49, 52, 46, 45, 60,\n",
       "       52, 55, 55, 57, 51, 47, 53, 45, 51, 52, 52, 54, 44, 51, 51, 47, 44,\n",
       "       50, 40, 45, 51, 42, 47, 49, 48, 54, 56, 45, 45, 48, 52, 44, 46, 54,\n",
       "       46, 45, 50, 41, 56, 48, 47, 48, 45, 49, 56, 56, 49, 60, 52, 57, 52,\n",
       "       55, 43, 45, 52, 55, 52, 50, 45, 45, 57, 53, 55, 54, 48, 54, 45, 48,\n",
       "       47, 48, 50, 54, 56, 48, 43, 47, 47, 50, 53, 51, 59, 54, 50, 52, 55,\n",
       "       43, 49, 53, 43, 56, 50, 63, 53, 53, 63, 51, 40, 48, 41, 54, 49, 49,\n",
       "       46, 57, 51, 49, 48, 48, 56, 48, 50, 46, 55, 54, 55, 48, 52, 40, 54,\n",
       "       52, 56, 50, 48, 43, 48, 57, 52, 50, 49, 58, 50, 56, 43, 51, 48, 51,\n",
       "       41, 47, 42, 52, 52, 55, 48, 49, 53, 49, 52, 47, 50, 45, 49, 45, 60,\n",
       "       67, 56, 49, 49, 51, 52, 58, 45, 41, 45, 45, 42, 45, 42, 47, 56, 44,\n",
       "       52, 50, 54, 46, 41, 51, 50, 46, 57, 49, 49, 56, 47, 56, 41, 47, 51,\n",
       "       46, 53, 44, 56, 39, 53, 45, 46, 52, 42, 55, 50, 50, 52, 49, 49, 51,\n",
       "       46, 47, 50, 54, 48, 41, 47, 48, 46, 58, 48, 48, 42, 53, 57, 50, 46,\n",
       "       51, 53, 54, 49, 56, 40, 44, 48, 44, 40, 52, 50, 49, 60, 49, 52, 42,\n",
       "       50, 43, 48, 50, 50, 54, 49, 44, 61, 46, 49, 52, 54, 48, 57, 49, 54,\n",
       "       49, 42, 49, 54, 48, 60, 47, 53, 45, 47, 51, 47, 48, 50, 49, 52, 51,\n",
       "       52, 56, 57, 53, 56, 55, 55, 51, 43, 57, 47, 53, 54, 48, 44, 48, 61,\n",
       "       54, 45, 56, 53, 48, 47, 46, 47, 53, 43, 49, 57, 43, 46, 46, 46, 48,\n",
       "       64, 54, 53, 58, 44, 54, 46, 52, 53, 56, 46, 42, 55, 54, 48, 48, 57,\n",
       "       56, 43, 44, 47, 50, 55, 52, 50, 52, 49, 51, 45, 44, 46, 48, 46, 51,\n",
       "       54, 49, 54, 46, 49, 52, 58, 48, 55, 54, 58, 50, 49, 46, 49, 59, 60,\n",
       "       55, 48, 54, 51, 57, 48, 48, 48, 47, 54, 53, 56, 48, 48, 47, 56, 49,\n",
       "       46, 60, 52, 50, 48, 53, 47, 58, 55, 55, 49, 51, 43, 59, 55, 52, 47,\n",
       "       52, 52, 52, 53, 44, 45, 49, 56, 46, 49, 57, 44, 58, 59, 46, 53, 46,\n",
       "       59, 54, 49, 43, 47, 49, 53, 58, 50, 50, 51, 47, 56, 46, 46, 48, 54,\n",
       "       49, 38, 60, 53, 52, 55, 43, 47, 49, 53, 43, 44, 50, 45, 45, 58, 46,\n",
       "       46, 44, 53, 54, 49, 55, 50, 57, 49, 54, 47, 52, 50, 50, 54, 49, 48,\n",
       "       51, 48, 40, 61, 56, 57, 58, 56, 47, 47, 46, 45, 50, 48])"
      ]
     },
     "execution_count": 4,
     "metadata": {},
     "output_type": "execute_result"
    }
   ],
   "source": [
    "np.random.seed(42)\n",
    "n=100\n",
    "p=0.5\n",
    "# let us repeat our experiment for 100 times\n",
    "size=1000\n",
    "x=np.random.binomial(n=n, p=p, size=size)\n",
    "x\n"
   ]
  },
  {
   "cell_type": "code",
   "execution_count": 10,
   "metadata": {},
   "outputs": [
    {
     "data": {
      "text/plain": [
       "[0,\n",
       " 0,\n",
       " 0,\n",
       " 0,\n",
       " 0,\n",
       " 0,\n",
       " 0,\n",
       " 0,\n",
       " 0,\n",
       " 0,\n",
       " 0,\n",
       " 0,\n",
       " 0,\n",
       " 0,\n",
       " 0,\n",
       " 0,\n",
       " 0,\n",
       " 0,\n",
       " 0,\n",
       " 0,\n",
       " 0,\n",
       " 0,\n",
       " 0,\n",
       " 0,\n",
       " 0,\n",
       " 0,\n",
       " 0,\n",
       " 0,\n",
       " 0,\n",
       " 0,\n",
       " 0,\n",
       " 0,\n",
       " 0,\n",
       " 0,\n",
       " 0,\n",
       " 0,\n",
       " 1,\n",
       " 1,\n",
       " 1,\n",
       " 6,\n",
       " 14,\n",
       " 24,\n",
       " 19,\n",
       " 35,\n",
       " 31,\n",
       " 44,\n",
       " 77,\n",
       " 52,\n",
       " 90,\n",
       " 87,\n",
       " 77,\n",
       " 61,\n",
       " 80,\n",
       " 51,\n",
       " 58,\n",
       " 45,\n",
       " 47,\n",
       " 30,\n",
       " 20,\n",
       " 17,\n",
       " 17,\n",
       " 8,\n",
       " 1,\n",
       " 2,\n",
       " 2,\n",
       " 1,\n",
       " 0,\n",
       " 1,\n",
       " 0,\n",
       " 0,\n",
       " 0,\n",
       " 0,\n",
       " 0,\n",
       " 0,\n",
       " 0,\n",
       " 0,\n",
       " 0,\n",
       " 0,\n",
       " 0,\n",
       " 0,\n",
       " 0,\n",
       " 0,\n",
       " 0,\n",
       " 0,\n",
       " 0,\n",
       " 0,\n",
       " 0,\n",
       " 0,\n",
       " 0,\n",
       " 0,\n",
       " 0,\n",
       " 0,\n",
       " 0,\n",
       " 0,\n",
       " 0,\n",
       " 0,\n",
       " 0,\n",
       " 0,\n",
       " 0,\n",
       " 0]"
      ]
     },
     "execution_count": 10,
     "metadata": {},
     "output_type": "execute_result"
    }
   ],
   "source": [
    "x = [np.equal(x,i).sum() for i in range(n)]\n",
    "x"
   ]
  },
  {
   "cell_type": "code",
   "execution_count": 17,
   "metadata": {},
   "outputs": [],
   "source": [
    "import matplotlib.pyplot as plt\n",
    "import seaborn as sns"
   ]
  },
  {
   "cell_type": "code",
   "execution_count": null,
   "metadata": {},
   "outputs": [],
   "source": []
  }
 ],
 "metadata": {
  "kernelspec": {
   "display_name": "Python 3",
   "language": "python",
   "name": "python3"
  },
  "language_info": {
   "codemirror_mode": {
    "name": "ipython",
    "version": 3
   },
   "file_extension": ".py",
   "mimetype": "text/x-python",
   "name": "python",
   "nbconvert_exporter": "python",
   "pygments_lexer": "ipython3",
   "version": "3.7.4"
  }
 },
 "nbformat": 4,
 "nbformat_minor": 2
}
